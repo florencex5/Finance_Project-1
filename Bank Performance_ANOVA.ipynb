{
 "cells": [
  {
   "attachments": {},
   "cell_type": "markdown",
   "id": "54f6eecd",
   "metadata": {},
   "source": [
    "# Hypothesis Test (ANOVA)\n",
    "---\n",
    "\n",
    "### Task\n",
    "- Using ANOVA (analysis of variance) to test whether there are significant differences in bank performance(i.e. bank stock prices) among the consumer confidence groups.\n",
    "- Each ANOVA will be performed separately based on different bank (JPMorgan Chase,Bank of America,Wells Fargo,Goldman Sachs,Citi Group)\n",
    "\n",
    "### Null and Alternative Hypothesis\n",
    "\n",
    "H0: μ1 = μ2 = μ3 (where μ1, μ2, μ3 represent the means of bank performance for low, moderate, and high consumer confidence groups, respectively)\n",
    "\n",
    "HA: At least one mean is different from the others.\n",
    "\n",
    "### Assumptions of Using ANOVA\n",
    "- The samples are independent.\n",
    "- Each sample is from a normally distributed population.\n",
    "- The population standard deviations of the groups are all equal.\n",
    "\n",
    "### Analysis\n",
    "- The obtained F-statistic value indicates the magnitude of the observed differences in bank performance among the consumer confidence groups(High/Moderate/Low), which is greater than F critical value for all five tested banks.\n",
    "- For instances, JPMorgan Chase has p-value as 0.00098, which is much smaller than 5% significant level.\n",
    "- In summary, for all five tested banks, the null hypothesis is rejected and there are significant differences in bank performance(i.e. bank stock prices) across the consumer confidence groups.\n",
    "\n",
    "### Extra Note:\n",
    "- Using large sample size (monthly basis) to help to meet the assumptions of ANOVA"
   ]
  },
  {
   "cell_type": "code",
   "execution_count": 190,
   "id": "b959e9a0",
   "metadata": {},
   "outputs": [],
   "source": [
    "#Dependencies\n",
    "import pandas as pd\n",
    "import scipy.stats as stats\n",
    "from scipy.stats import f"
   ]
  },
  {
   "cell_type": "code",
   "execution_count": 191,
   "id": "cc0bc0dc",
   "metadata": {},
   "outputs": [],
   "source": [
    "# Read the original CSV file of consumer sentiment index (monthly basis/Jan 2013 - Apr 2023)\n",
    "monthly_csi = pd.read_csv(\"Resources/us_csi_original_monthly.csv\")\n",
    "\n",
    "#Rename the header of column and reset index\n",
    "new_monthly_csi = monthly_csi.rename(columns = {\"DATE\" : \"Date\", \"UMCSENT\" : \"Consumer Sentiment Index\"})\n",
    "\n",
    "# Read the original CSV file of all five banks' stock prices (monthly basis/Jan 2013 - Apr 2023) and rename the header of column\n",
    "jpm_stock = pd.read_csv(\"Resources/jpm_stock_price.csv\").rename(columns = {\"Adj Close\" : \"Chase Adj Close\"})\n",
    "boa_stock = pd.read_csv(\"Resources/boa_stock_price.csv\").rename(columns = {\"Adj Close\" : \"BoA Adj Close\"})\n",
    "wf_stock = pd.read_csv(\"Resources/wf_stock_price.csv\").rename(columns = {\"Adj Close\" : \"WF Adj Close\"})\n",
    "gs_stock = pd.read_csv(\"Resources/gs_stock_price.csv\").rename(columns = {\"Adj Close\" : \"GS Adj Close\"})\n",
    "citi_stock = pd.read_csv(\"Resources/citi_stock_price.csv\").rename(columns = {\"Adj Close\" : \"Citi Adj Close\"})"
   ]
  },
  {
   "cell_type": "code",
   "execution_count": 192,
   "id": "1cc8ee49",
   "metadata": {},
   "outputs": [
    {
     "data": {
      "text/html": [
       "<div>\n",
       "<style scoped>\n",
       "    .dataframe tbody tr th:only-of-type {\n",
       "        vertical-align: middle;\n",
       "    }\n",
       "\n",
       "    .dataframe tbody tr th {\n",
       "        vertical-align: top;\n",
       "    }\n",
       "\n",
       "    .dataframe thead th {\n",
       "        text-align: right;\n",
       "    }\n",
       "</style>\n",
       "<table border=\"1\" class=\"dataframe\">\n",
       "  <thead>\n",
       "    <tr style=\"text-align: right;\">\n",
       "      <th></th>\n",
       "      <th>Date</th>\n",
       "      <th>Consumer Sentiment Index</th>\n",
       "      <th>Chase Adj Close</th>\n",
       "      <th>BoA Adj Close</th>\n",
       "      <th>WF Adj Close</th>\n",
       "      <th>GS Adj Close</th>\n",
       "      <th>Citi Adj Close</th>\n",
       "    </tr>\n",
       "  </thead>\n",
       "  <tbody>\n",
       "    <tr>\n",
       "      <th>0</th>\n",
       "      <td>2013-01-01</td>\n",
       "      <td>73.8</td>\n",
       "      <td>35.112534</td>\n",
       "      <td>9.481201</td>\n",
       "      <td>25.775806</td>\n",
       "      <td>123.101814</td>\n",
       "      <td>34.244678</td>\n",
       "    </tr>\n",
       "    <tr>\n",
       "      <th>1</th>\n",
       "      <td>2013-02-01</td>\n",
       "      <td>77.6</td>\n",
       "      <td>36.758884</td>\n",
       "      <td>9.405819</td>\n",
       "      <td>26.146143</td>\n",
       "      <td>124.683670</td>\n",
       "      <td>34.098484</td>\n",
       "    </tr>\n",
       "    <tr>\n",
       "      <th>2</th>\n",
       "      <td>2013-03-01</td>\n",
       "      <td>78.6</td>\n",
       "      <td>35.661839</td>\n",
       "      <td>10.210680</td>\n",
       "      <td>27.569729</td>\n",
       "      <td>122.926949</td>\n",
       "      <td>35.942738</td>\n",
       "    </tr>\n",
       "    <tr>\n",
       "      <th>3</th>\n",
       "      <td>2013-04-01</td>\n",
       "      <td>76.4</td>\n",
       "      <td>36.826508</td>\n",
       "      <td>10.319658</td>\n",
       "      <td>28.307592</td>\n",
       "      <td>122.024780</td>\n",
       "      <td>37.908882</td>\n",
       "    </tr>\n",
       "    <tr>\n",
       "      <th>4</th>\n",
       "      <td>2013-05-01</td>\n",
       "      <td>84.5</td>\n",
       "      <td>41.275848</td>\n",
       "      <td>11.451387</td>\n",
       "      <td>30.223087</td>\n",
       "      <td>135.399277</td>\n",
       "      <td>42.239227</td>\n",
       "    </tr>\n",
       "  </tbody>\n",
       "</table>\n",
       "</div>"
      ],
      "text/plain": [
       "         Date  Consumer Sentiment Index  Chase Adj Close  BoA Adj Close  \\\n",
       "0  2013-01-01                      73.8        35.112534       9.481201   \n",
       "1  2013-02-01                      77.6        36.758884       9.405819   \n",
       "2  2013-03-01                      78.6        35.661839      10.210680   \n",
       "3  2013-04-01                      76.4        36.826508      10.319658   \n",
       "4  2013-05-01                      84.5        41.275848      11.451387   \n",
       "\n",
       "   WF Adj Close  GS Adj Close  Citi Adj Close  \n",
       "0     25.775806    123.101814       34.244678  \n",
       "1     26.146143    124.683670       34.098484  \n",
       "2     27.569729    122.926949       35.942738  \n",
       "3     28.307592    122.024780       37.908882  \n",
       "4     30.223087    135.399277       42.239227  "
      ]
     },
     "execution_count": 192,
     "metadata": {},
     "output_type": "execute_result"
    }
   ],
   "source": [
    "# Merge consumer sentiment index and all five banks' stock prices based on date and drop any unused columns\n",
    "version1_df = pd.merge(new_monthly_csi, jpm_stock, how=\"left\", on=[\"Date\"]).drop(columns=['High', 'Volume', 'Open', 'Close', 'Low'])\n",
    "version2_df= pd.merge(version1_df, boa_stock, how=\"left\", on=[\"Date\"]).drop(columns=['High', 'Volume', 'Open', 'Close', 'Low'])\n",
    "version3_df= pd.merge(version2_df, wf_stock, how=\"left\", on=[\"Date\"]).drop(columns=['High', 'Volume', 'Open', 'Close', 'Low'])\n",
    "version4_df= pd.merge(version3_df, gs_stock, how=\"left\", on=[\"Date\"]).drop(columns=['High', 'Volume', 'Open', 'Close', 'Low'])\n",
    "complete_df= pd.merge(version4_df, citi_stock, how=\"left\", on=[\"Date\"]).drop(columns=['High', 'Volume', 'Open', 'Close', 'Low'])\n",
    "\n",
    "# Display the final merged data frame\n",
    "complete_df.head()"
   ]
  },
  {
   "cell_type": "code",
   "execution_count": 193,
   "id": "85291788",
   "metadata": {},
   "outputs": [
    {
     "data": {
      "text/plain": [
       "count    124.000000\n",
       "mean      85.046774\n",
       "std       12.847982\n",
       "min       50.000000\n",
       "25%       77.350000\n",
       "50%       88.900000\n",
       "75%       95.950000\n",
       "max      101.400000\n",
       "Name: Consumer Sentiment Index, dtype: float64"
      ]
     },
     "execution_count": 193,
     "metadata": {},
     "output_type": "execute_result"
    }
   ],
   "source": [
    "# Generate descriptive statistics of consumer sentiment index and decide the boundaries of separating\n",
    "# consumer confidence group\n",
    "new_monthly_csi[\"Consumer Sentiment Index\"].describe()"
   ]
  },
  {
   "cell_type": "code",
   "execution_count": 194,
   "id": "c403b9f7",
   "metadata": {},
   "outputs": [],
   "source": [
    "# Establish the bins for different groups of consumer sentiment index\n",
    "csi_bins = [0, 85, 95, 105]\n",
    "labels = [\"Low CSI (<85)\", \"Moderate CSI (85-95)\", \"High CSI (95-105)\"]"
   ]
  },
  {
   "cell_type": "code",
   "execution_count": 195,
   "id": "cf75d98b",
   "metadata": {},
   "outputs": [
    {
     "data": {
      "text/html": [
       "<div>\n",
       "<style scoped>\n",
       "    .dataframe tbody tr th:only-of-type {\n",
       "        vertical-align: middle;\n",
       "    }\n",
       "\n",
       "    .dataframe tbody tr th {\n",
       "        vertical-align: top;\n",
       "    }\n",
       "\n",
       "    .dataframe thead th {\n",
       "        text-align: right;\n",
       "    }\n",
       "</style>\n",
       "<table border=\"1\" class=\"dataframe\">\n",
       "  <thead>\n",
       "    <tr style=\"text-align: right;\">\n",
       "      <th></th>\n",
       "      <th>Date</th>\n",
       "      <th>Consumer Sentiment Index</th>\n",
       "      <th>Chase Adj Close</th>\n",
       "      <th>BoA Adj Close</th>\n",
       "      <th>WF Adj Close</th>\n",
       "      <th>GS Adj Close</th>\n",
       "      <th>Citi Adj Close</th>\n",
       "      <th>CSI Ranking</th>\n",
       "    </tr>\n",
       "  </thead>\n",
       "  <tbody>\n",
       "    <tr>\n",
       "      <th>0</th>\n",
       "      <td>2013-01-01</td>\n",
       "      <td>73.8</td>\n",
       "      <td>35.112534</td>\n",
       "      <td>9.481201</td>\n",
       "      <td>25.775806</td>\n",
       "      <td>123.101814</td>\n",
       "      <td>34.244678</td>\n",
       "      <td>Low CSI (&lt;85)</td>\n",
       "    </tr>\n",
       "    <tr>\n",
       "      <th>1</th>\n",
       "      <td>2013-02-01</td>\n",
       "      <td>77.6</td>\n",
       "      <td>36.758884</td>\n",
       "      <td>9.405819</td>\n",
       "      <td>26.146143</td>\n",
       "      <td>124.683670</td>\n",
       "      <td>34.098484</td>\n",
       "      <td>Low CSI (&lt;85)</td>\n",
       "    </tr>\n",
       "    <tr>\n",
       "      <th>2</th>\n",
       "      <td>2013-03-01</td>\n",
       "      <td>78.6</td>\n",
       "      <td>35.661839</td>\n",
       "      <td>10.210680</td>\n",
       "      <td>27.569729</td>\n",
       "      <td>122.926949</td>\n",
       "      <td>35.942738</td>\n",
       "      <td>Low CSI (&lt;85)</td>\n",
       "    </tr>\n",
       "    <tr>\n",
       "      <th>3</th>\n",
       "      <td>2013-04-01</td>\n",
       "      <td>76.4</td>\n",
       "      <td>36.826508</td>\n",
       "      <td>10.319658</td>\n",
       "      <td>28.307592</td>\n",
       "      <td>122.024780</td>\n",
       "      <td>37.908882</td>\n",
       "      <td>Low CSI (&lt;85)</td>\n",
       "    </tr>\n",
       "    <tr>\n",
       "      <th>4</th>\n",
       "      <td>2013-05-01</td>\n",
       "      <td>84.5</td>\n",
       "      <td>41.275848</td>\n",
       "      <td>11.451387</td>\n",
       "      <td>30.223087</td>\n",
       "      <td>135.399277</td>\n",
       "      <td>42.239227</td>\n",
       "      <td>Low CSI (&lt;85)</td>\n",
       "    </tr>\n",
       "  </tbody>\n",
       "</table>\n",
       "</div>"
      ],
      "text/plain": [
       "         Date  Consumer Sentiment Index  Chase Adj Close  BoA Adj Close  \\\n",
       "0  2013-01-01                      73.8        35.112534       9.481201   \n",
       "1  2013-02-01                      77.6        36.758884       9.405819   \n",
       "2  2013-03-01                      78.6        35.661839      10.210680   \n",
       "3  2013-04-01                      76.4        36.826508      10.319658   \n",
       "4  2013-05-01                      84.5        41.275848      11.451387   \n",
       "\n",
       "   WF Adj Close  GS Adj Close  Citi Adj Close    CSI Ranking  \n",
       "0     25.775806    123.101814       34.244678  Low CSI (<85)  \n",
       "1     26.146143    124.683670       34.098484  Low CSI (<85)  \n",
       "2     27.569729    122.926949       35.942738  Low CSI (<85)  \n",
       "3     28.307592    122.024780       37.908882  Low CSI (<85)  \n",
       "4     30.223087    135.399277       42.239227  Low CSI (<85)  "
      ]
     },
     "execution_count": 195,
     "metadata": {},
     "output_type": "execute_result"
    }
   ],
   "source": [
    "# Categorize the consumer sentiment index based on the bins\n",
    "complete_df[\"CSI Ranking\"] = pd.cut(complete_df[\"Consumer Sentiment Index\"],\n",
    "                                           csi_bins,labels=labels,include_lowest=True)\n",
    "complete_df.head()"
   ]
  },
  {
   "cell_type": "code",
   "execution_count": 196,
   "id": "f34f8ef4",
   "metadata": {},
   "outputs": [],
   "source": [
    "# Define function for ANOVA\n",
    "def anova(price,bank):\n",
    "    \n",
    "    low = complete_df[complete_df[\"CSI Ranking\"] == \"Low CSI (<85)\"][price]\n",
    "    moderate = complete_df[complete_df[\"CSI Ranking\"] == \"Moderate CSI (85-95)\"][price]\n",
    "    high = complete_df[complete_df[\"CSI Ranking\"] == \"High CSI (95-105)\"][price]\n",
    "    \n",
    "    \n",
    "    f_statistic, p_value = stats.f_oneway(low, moderate, high)\n",
    "    print(f\"{bank}: F statistic vaulue = {f_statistic} / P-value = {p_value}\")\n",
    "    \n",
    "    \n",
    "    # Set the significance level at 5%\n",
    "    alpha = 0.05\n",
    "\n",
    "    #Set up the degree of freedom and calculate the critical F-value for a two-tailed test\n",
    "    # df1 = k-1 = 3-1 = 2\n",
    "    # df2 = n-k = 124-3 = 121\n",
    "    critical_f_value = f.ppf(1- alpha/2,2,121)\n",
    "    \n",
    "    if abs(f_statistic) > critical_f_value:\n",
    "        print(f\"Reject the null hypothesis. The result is statistically significant.\")\n",
    "    else:\n",
    "        print(f\"Fail to reject the null hypothesis. The result is not statistically significant.\")\n",
    "    print(\"--------------------------------------------------------------------------------------------\")"
   ]
  },
  {
   "cell_type": "code",
   "execution_count": 197,
   "id": "aa40e536",
   "metadata": {},
   "outputs": [
    {
     "name": "stdout",
     "output_type": "stream",
     "text": [
      "JPMorgan Chase: F statistic vaulue = 7.336369871320204 / P-value = 0.0009833608159670933\n",
      "Reject the null hypothesis. The result is statistically significant.\n",
      "--------------------------------------------------------------------------------------------\n",
      "Bank of America: F statistic vaulue = 8.495660429056539 / P-value = 0.00035276274494579825\n",
      "Reject the null hypothesis. The result is statistically significant.\n",
      "--------------------------------------------------------------------------------------------\n",
      "Wells Fargo: F statistic vaulue = 23.295293230067482 / P-value = 2.763203374865016e-09\n",
      "Reject the null hypothesis. The result is statistically significant.\n",
      "--------------------------------------------------------------------------------------------\n",
      "Goldman Sachs: F statistic vaulue = 10.154274986159066 / P-value = 8.381548996624196e-05\n",
      "Reject the null hypothesis. The result is statistically significant.\n",
      "--------------------------------------------------------------------------------------------\n",
      "Citi Group: F statistic vaulue = 15.347937747191178 / P-value = 1.1471009801771042e-06\n",
      "Reject the null hypothesis. The result is statistically significant.\n",
      "--------------------------------------------------------------------------------------------\n"
     ]
    }
   ],
   "source": [
    "#Print out the results of ANOVA per bank\n",
    "anova(\"Chase Adj Close\",\"JPMorgan Chase\")\n",
    "anova(\"BoA Adj Close\",\"Bank of America\")\n",
    "anova(\"WF Adj Close\",\"Wells Fargo\")\n",
    "anova(\"GS Adj Close\",\"Goldman Sachs\")\n",
    "anova(\"Citi Adj Close\",\"Citi Group\")"
   ]
  },
  {
   "cell_type": "markdown",
   "id": "870ab94b",
   "metadata": {},
   "source": [
    "### Extra Note: Checking the normal distribution and homoscedasticity of bank stock price\n",
    "- Example: JPMorgan stock price"
   ]
  },
  {
   "cell_type": "code",
   "execution_count": 203,
   "id": "3be0f0ae",
   "metadata": {},
   "outputs": [
    {
     "name": "stdout",
     "output_type": "stream",
     "text": [
      "Test Statistic: 27.874255292740354\n",
      "P-value: 8.854873669745033e-07\n"
     ]
    }
   ],
   "source": [
    "# Check the homoscedasticity of JPMorgan stock price\n",
    "from scipy.stats import bartlett\n",
    "\n",
    "# Perform Bartlett's test\n",
    "statistic, p_value = bartlett(chase_low, chase_moderate, chase_high)\n",
    "\n",
    "# Print the test results\n",
    "print(\"Test Statistic:\", statistic)\n",
    "print(\"P-value:\", p_value)"
   ]
  },
  {
   "cell_type": "code",
   "execution_count": 204,
   "id": "0d0f0679",
   "metadata": {},
   "outputs": [
    {
     "data": {
      "text/plain": [
       "<Axes: >"
      ]
     },
     "execution_count": 204,
     "metadata": {},
     "output_type": "execute_result"
    },
    {
     "data": {
      "image/png": "[encoded data removed]",
      "text/plain": [
       "<Figure size 640x480 with 1 Axes>"
      ]
     },
     "metadata": {},
     "output_type": "display_data"
    }
   ],
   "source": [
    "# Check the distribution of JPMorgan Stock Price\n",
    "complete_df[\"Chase Adj Close\"].hist()"
   ]
  },
  {
   "cell_type": "code",
   "execution_count": null,
   "id": "fd92cd08",
   "metadata": {},
   "outputs": [],
   "source": []
  }
 ],
 "metadata": {
  "kernelspec": {
   "display_name": "Python 3 (ipykernel)",
   "language": "python",
   "name": "python3"
  },
  "language_info": {
   "codemirror_mode": {
    "name": "ipython",
    "version": 3
   },
   "file_extension": ".py",
   "mimetype": "text/x-python",
   "name": "python",
   "nbconvert_exporter": "python",
   "pygments_lexer": "ipython3",
   "version": "3.10.11"
  }
 },
 "nbformat": 4,
 "nbformat_minor": 5
}
